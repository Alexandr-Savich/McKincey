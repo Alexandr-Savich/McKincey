{
 "cells": [
  {
   "cell_type": "code",
   "execution_count": 1,
   "metadata": {},
   "outputs": [],
   "source": [
    "import pandas as pd\n",
    "from math import sqrt\n",
    "import numpy as np\n",
    "import matplotlib.pyplot as plt\n",
    "from sklearn.tree import DecisionTreeRegressor\n",
    "from sklearn.ensemble import AdaBoostRegressor\n",
    "from sklearn.metrics import mean_squared_error, mean_absolute_error\n",
    "\n",
    "# read input\n",
    "df = pd.read_csv('opsd_austria_daily.csv')\n",
    "\n",
    "df['Date'] = pd.to_datetime(df['Date'])\n",
    "df['Year'] = df['Date'].dt.year\n",
    "df['Month'] = df['Date'].dt.month\n"
   ]
  },
  {
   "cell_type": "code",
   "execution_count": 2,
   "metadata": {},
   "outputs": [],
   "source": [
    "from sklearn.model_selection import GridSearchCV"
   ]
  },
  {
   "cell_type": "code",
   "execution_count": 3,
   "metadata": {},
   "outputs": [],
   "source": [
    "# data imputation\n",
    "def clean(dataset, columns):\n",
    "    dataset[columns].replace(0, np.nan, inplace=True)\n",
    "    dataset[columns].fillna(method='ffill', inplace=True) # choose a scheme for fillna\n",
    "# call a clean function here for Electricity_consumption, Wind_production columns\n",
    "clean(df,'Wind_production')\n",
    "clean(df,'Electricity_consumption')\n"
   ]
  },
  {
   "cell_type": "code",
   "execution_count": 4,
   "metadata": {},
   "outputs": [],
   "source": [
    "# ensemble learning for regression\n",
    "def ensemble_training(df_train, df_test,depth, estimators):\n",
    "    label = 'Electricity_consumption'\n",
    "    X_train = df_train.drop(label, axis=1)\n",
    "    y_train = df_train.loc[:,label]\n",
    "    X_test = df_test.drop(label, axis=1)\n",
    "    y_test = df_test.loc[:,label]\n",
    " \n",
    "\n",
    "    \n",
    "    dtrab = AdaBoostRegressor(DecisionTreeRegressor(max_depth=depth),\n",
    "                              # check which value for max_depth gives better RMSE/MSE: 5, 10, 15, 20, 25\n",
    "                              n_estimators=estimators,\n",
    "                              # check which value for n_estimators gives better RMSE/MAE: 10, 20, 30, 40, 50, 100\n",
    "                              random_state=1)\n",
    "    dtrab.fit(X_train, y_train)\n",
    "    y_predict=dtrab.predict(X_test)\n",
    "    print('i=',depth)\n",
    "    print('j=',estimators)\n",
    "    print('RMSE: %.6f' %(sqrt(mean_squared_error(y_test, y_predict))))\n",
    "    print('MAE: %.6f' %(mean_absolute_error(y_test, y_predict)))\n",
    "    df_sol=pd.DataFrame({'True': np.array(y_test),'Predicted': np.array(y_predict)})\n",
    "    return dtrab, df_sol\n"
   ]
  },
  {
   "cell_type": "code",
   "execution_count": null,
   "metadata": {},
   "outputs": [],
   "source": []
  },
  {
   "cell_type": "code",
   "execution_count": null,
   "metadata": {},
   "outputs": [],
   "source": []
  },
  {
   "cell_type": "code",
   "execution_count": 5,
   "metadata": {},
   "outputs": [
    {
     "data": {
      "text/html": [
       "<div>\n",
       "<style scoped>\n",
       "    .dataframe tbody tr th:only-of-type {\n",
       "        vertical-align: middle;\n",
       "    }\n",
       "\n",
       "    .dataframe tbody tr th {\n",
       "        vertical-align: top;\n",
       "    }\n",
       "\n",
       "    .dataframe thead th {\n",
       "        text-align: right;\n",
       "    }\n",
       "</style>\n",
       "<table border=\"1\" class=\"dataframe\">\n",
       "  <thead>\n",
       "    <tr style=\"text-align: right;\">\n",
       "      <th></th>\n",
       "      <th>Date</th>\n",
       "      <th>Electricity_consumption</th>\n",
       "      <th>Wind_production</th>\n",
       "      <th>Solar_production</th>\n",
       "      <th>Price</th>\n",
       "      <th>Wind+Solar</th>\n",
       "      <th>Year</th>\n",
       "      <th>Month</th>\n",
       "    </tr>\n",
       "  </thead>\n",
       "  <tbody>\n",
       "    <tr>\n",
       "      <th>2095</th>\n",
       "      <td>2020-09-26</td>\n",
       "      <td>140.644</td>\n",
       "      <td>49.182</td>\n",
       "      <td>1.593</td>\n",
       "      <td>NaN</td>\n",
       "      <td>50.775</td>\n",
       "      <td>2020</td>\n",
       "      <td>9</td>\n",
       "    </tr>\n",
       "    <tr>\n",
       "      <th>2096</th>\n",
       "      <td>2020-09-27</td>\n",
       "      <td>130.375</td>\n",
       "      <td>12.691</td>\n",
       "      <td>2.909</td>\n",
       "      <td>NaN</td>\n",
       "      <td>15.600</td>\n",
       "      <td>2020</td>\n",
       "      <td>9</td>\n",
       "    </tr>\n",
       "    <tr>\n",
       "      <th>2097</th>\n",
       "      <td>2020-09-28</td>\n",
       "      <td>167.944</td>\n",
       "      <td>18.185</td>\n",
       "      <td>0.685</td>\n",
       "      <td>NaN</td>\n",
       "      <td>18.870</td>\n",
       "      <td>2020</td>\n",
       "      <td>9</td>\n",
       "    </tr>\n",
       "    <tr>\n",
       "      <th>2098</th>\n",
       "      <td>2020-09-29</td>\n",
       "      <td>166.983</td>\n",
       "      <td>29.281</td>\n",
       "      <td>2.091</td>\n",
       "      <td>NaN</td>\n",
       "      <td>31.372</td>\n",
       "      <td>2020</td>\n",
       "      <td>9</td>\n",
       "    </tr>\n",
       "    <tr>\n",
       "      <th>2099</th>\n",
       "      <td>2020-09-30</td>\n",
       "      <td>166.657</td>\n",
       "      <td>47.345</td>\n",
       "      <td>NaN</td>\n",
       "      <td>NaN</td>\n",
       "      <td>NaN</td>\n",
       "      <td>2020</td>\n",
       "      <td>9</td>\n",
       "    </tr>\n",
       "  </tbody>\n",
       "</table>\n",
       "</div>"
      ],
      "text/plain": [
       "           Date  Electricity_consumption  Wind_production  Solar_production  \\\n",
       "2095 2020-09-26                  140.644           49.182             1.593   \n",
       "2096 2020-09-27                  130.375           12.691             2.909   \n",
       "2097 2020-09-28                  167.944           18.185             0.685   \n",
       "2098 2020-09-29                  166.983           29.281             2.091   \n",
       "2099 2020-09-30                  166.657           47.345               NaN   \n",
       "\n",
       "      Price  Wind+Solar  Year  Month  \n",
       "2095    NaN      50.775  2020      9  \n",
       "2096    NaN      15.600  2020      9  \n",
       "2097    NaN      18.870  2020      9  \n",
       "2098    NaN      31.372  2020      9  \n",
       "2099    NaN         NaN  2020      9  "
      ]
     },
     "execution_count": 5,
     "metadata": {},
     "output_type": "execute_result"
    }
   ],
   "source": [
    "df.tail()"
   ]
  },
  {
   "cell_type": "code",
   "execution_count": 6,
   "metadata": {},
   "outputs": [],
   "source": [
    "features = ['Electricity_consumption','Wind_production','Month']\n",
    "df_train = df.loc[df['Year']!=2019, features]\n",
    "df_test = df.loc[df['Year']==2019, features]\n"
   ]
  },
  {
   "cell_type": "code",
   "execution_count": 7,
   "metadata": {},
   "outputs": [
    {
     "data": {
      "text/html": [
       "<div>\n",
       "<style scoped>\n",
       "    .dataframe tbody tr th:only-of-type {\n",
       "        vertical-align: middle;\n",
       "    }\n",
       "\n",
       "    .dataframe tbody tr th {\n",
       "        vertical-align: top;\n",
       "    }\n",
       "\n",
       "    .dataframe thead th {\n",
       "        text-align: right;\n",
       "    }\n",
       "</style>\n",
       "<table border=\"1\" class=\"dataframe\">\n",
       "  <thead>\n",
       "    <tr style=\"text-align: right;\">\n",
       "      <th></th>\n",
       "      <th>Electricity_consumption</th>\n",
       "      <th>Wind_production</th>\n",
       "      <th>Month</th>\n",
       "    </tr>\n",
       "  </thead>\n",
       "  <tbody>\n",
       "    <tr>\n",
       "      <th>2095</th>\n",
       "      <td>140.644</td>\n",
       "      <td>49.182</td>\n",
       "      <td>9</td>\n",
       "    </tr>\n",
       "    <tr>\n",
       "      <th>2096</th>\n",
       "      <td>130.375</td>\n",
       "      <td>12.691</td>\n",
       "      <td>9</td>\n",
       "    </tr>\n",
       "    <tr>\n",
       "      <th>2097</th>\n",
       "      <td>167.944</td>\n",
       "      <td>18.185</td>\n",
       "      <td>9</td>\n",
       "    </tr>\n",
       "    <tr>\n",
       "      <th>2098</th>\n",
       "      <td>166.983</td>\n",
       "      <td>29.281</td>\n",
       "      <td>9</td>\n",
       "    </tr>\n",
       "    <tr>\n",
       "      <th>2099</th>\n",
       "      <td>166.657</td>\n",
       "      <td>47.345</td>\n",
       "      <td>9</td>\n",
       "    </tr>\n",
       "  </tbody>\n",
       "</table>\n",
       "</div>"
      ],
      "text/plain": [
       "      Electricity_consumption  Wind_production  Month\n",
       "2095                  140.644           49.182      9\n",
       "2096                  130.375           12.691      9\n",
       "2097                  167.944           18.185      9\n",
       "2098                  166.983           29.281      9\n",
       "2099                  166.657           47.345      9"
      ]
     },
     "execution_count": 7,
     "metadata": {},
     "output_type": "execute_result"
    }
   ],
   "source": [
    "df_train.tail()"
   ]
  },
  {
   "cell_type": "code",
   "execution_count": 8,
   "metadata": {},
   "outputs": [],
   "source": [
    "def month_select(df, column):\n",
    "    df_dummy = pd.get_dummies(df[column], prefix='M')\n",
    "    df_new = pd.concat([df, df_dummy], axis=1)\n",
    "    df_new = df_new.drop(column, axis=1)\n",
    "    return df_new"
   ]
  },
  {
   "cell_type": "code",
   "execution_count": 9,
   "metadata": {},
   "outputs": [
    {
     "name": "stdout",
     "output_type": "stream",
     "text": [
      "i= 10\n",
      "j= 30\n",
      "RMSE: 19.787122\n",
      "MAE: 17.198861\n"
     ]
    }
   ],
   "source": [
    "df_train = month_select(df_train, 'Month')\n",
    "df_test = month_select(df_test, 'Month')\n",
    "\n",
    "df_sol = []\n",
    "model, df_sol = ensemble_training(df_train, df_test,10,30)\n",
    "df_sol = pd.concat([df_sol.reset_index(drop=True),\n",
    "                  pd.Series(df.loc[df['Year']==2019,'Date']).reset_index(drop=True)], axis=1)"
   ]
  },
  {
   "cell_type": "code",
   "execution_count": 10,
   "metadata": {},
   "outputs": [
    {
     "ename": "NameError",
     "evalue": "name 'clf' is not defined",
     "output_type": "error",
     "traceback": [
      "\u001b[1;31m---------------------------------------------------------------------------\u001b[0m",
      "\u001b[1;31mNameError\u001b[0m                                 Traceback (most recent call last)",
      "\u001b[1;32m<ipython-input-10-e33398cd5dd2>\u001b[0m in \u001b[0;36m<module>\u001b[1;34m()\u001b[0m\n\u001b[1;32m----> 1\u001b[1;33m \u001b[0mclf\u001b[0m\u001b[1;33m.\u001b[0m\u001b[0mget_params\u001b[0m\u001b[1;33m(\u001b[0m\u001b[1;33m)\u001b[0m\u001b[1;33m.\u001b[0m\u001b[0mkeys\u001b[0m\u001b[1;33m(\u001b[0m\u001b[1;33m)\u001b[0m\u001b[1;33m\u001b[0m\u001b[0m\n\u001b[0m",
      "\u001b[1;31mNameError\u001b[0m: name 'clf' is not defined"
     ]
    }
   ],
   "source": [
    "clf.get_params().keys()"
   ]
  },
  {
   "cell_type": "code",
   "execution_count": 11,
   "metadata": {},
   "outputs": [
    {
     "data": {
      "image/png": "[encoded data removed]",
      "text/plain": [
       "<Figure size 720x288 with 1 Axes>"
      ]
     },
     "metadata": {
      "needs_background": "light"
     },
     "output_type": "display_data"
    }
   ],
   "source": [
    "\n",
    "# visualization\n",
    "fig,ax = plt.subplots(figsize=(10,4))\n",
    "ax.plot_date(df_sol.loc[1:15,'Date'],\n",
    "             df_sol.loc[1:15,'True'],\n",
    "             marker='None',\n",
    "             linestyle = '-',\n",
    "             color='black', label='True')\n",
    "ax.plot_date(df_sol.loc[1:15,'Date'],\n",
    "             df_sol.loc[1:15,'Predicted'],\n",
    "             marker='o',\n",
    "             linestyle = '-',\n",
    "             color='navy', markeredgecolor='navy', label='Predicted')\n",
    "ax.set_xlabel('Time')\n",
    "ax.set_ylabel('Electricity consumption')\n",
    "ax.legend(loc='lower right')\n",
    "plt.show()\n"
   ]
  },
  {
   "cell_type": "code",
   "execution_count": null,
   "metadata": {},
   "outputs": [],
   "source": []
  },
  {
   "cell_type": "markdown",
   "metadata": {},
   "source": [
    "Как видно из GridSearch ниже, лучшее значение достигается при глубине=5, n_estimators=10"
   ]
  },
  {
   "cell_type": "code",
   "execution_count": null,
   "metadata": {},
   "outputs": [],
   "source": [
    "X_train = df_train.drop('Electricity_consumption', axis=1)\n",
    "y_train = df_train.loc[:,'Electricity_consumption']\n",
    "\n",
    "DTC=DecisionTreeRegressor()\n",
    "clf=AdaBoostRegressor(base_estimator = DTC)\n",
    "parametrs={\n",
    "            'base_estimator__max_depth':np.array([5,10,15,20,25]),\n",
    "       'n_estimators':np.array([10,20,30,40,50,100])}\n",
    "\n",
    "grid=GridSearchCV(clf,parametrs).fit(X_train, y_train)\n",
    "\n",
    "\n",
    "\n",
    "print(grid.best_params_)"
   ]
  },
  {
   "cell_type": "code",
   "execution_count": 336,
   "metadata": {},
   "outputs": [
    {
     "name": "stdout",
     "output_type": "stream",
     "text": [
      "i= 5\n",
      "j= 10\n",
      "RMSE: 18.837921\n",
      "MAE: 17.022593\n"
     ]
    }
   ],
   "source": [
    "\n",
    "\n",
    "df_sol = []\n",
    "model, df_sol = ensemble_training(df_train, df_test,5,10)\n",
    "df_sol = pd.concat([df_sol.reset_index(drop=True),\n",
    "                  pd.Series(df.loc[df['Year']==2019,'Date']).reset_index(drop=True)], axis=1)"
   ]
  },
  {
   "cell_type": "code",
   "execution_count": 337,
   "metadata": {},
   "outputs": [
    {
     "data": {
      "image/png": "[encoded data removed]",
      "text/plain": [
       "<Figure size 720x288 with 1 Axes>"
      ]
     },
     "metadata": {
      "needs_background": "light"
     },
     "output_type": "display_data"
    }
   ],
   "source": [
    "# visualization\n",
    "fig,ax = plt.subplots(figsize=(10,4))\n",
    "ax.plot_date(df_sol.loc[1:15,'Date'],\n",
    "             df_sol.loc[1:15,'True'],\n",
    "             marker='None',\n",
    "             linestyle = '-',\n",
    "             color='black', label='True')\n",
    "ax.plot_date(df_sol.loc[1:15,'Date'],\n",
    "             df_sol.loc[1:15,'Predicted'],\n",
    "             marker='o',\n",
    "             linestyle = '-',\n",
    "             color='navy', markeredgecolor='navy', label='Predicted')\n",
    "ax.set_xlabel('Time')\n",
    "ax.set_ylabel('Electricity consumption')\n",
    "ax.legend(loc='lower right')\n",
    "plt.show()\n"
   ]
  },
  {
   "cell_type": "code",
   "execution_count": null,
   "metadata": {},
   "outputs": [],
   "source": []
  },
  {
   "cell_type": "code",
   "execution_count": null,
   "metadata": {},
   "outputs": [],
   "source": []
  },
  {
   "cell_type": "code",
   "execution_count": null,
   "metadata": {},
   "outputs": [],
   "source": []
  },
  {
   "cell_type": "code",
   "execution_count": null,
   "metadata": {},
   "outputs": [],
   "source": []
  }
 ],
 "metadata": {
  "kernelspec": {
   "display_name": "Python 3",
   "language": "python",
   "name": "python3"
  },
  "language_info": {
   "codemirror_mode": {
    "name": "ipython",
    "version": 3
   },
   "file_extension": ".py",
   "mimetype": "text/x-python",
   "name": "python",
   "nbconvert_exporter": "python",
   "pygments_lexer": "ipython3",
   "version": "3.7.0"
  }
 },
 "nbformat": 4,
 "nbformat_minor": 2
}
